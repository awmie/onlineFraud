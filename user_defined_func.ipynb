{
 "cells": [
  {
   "cell_type": "markdown",
   "metadata": {},
   "source": [
    "## Exploring Well-Defined Python Functions"
   ]
  },
  {
   "cell_type": "markdown",
   "metadata": {},
   "source": [
    "### Abstract :"
   ]
  },
  {
   "cell_type": "markdown",
   "metadata": {},
   "source": [
    "This report delves into the concept of well-defined Python functions, outlining their significance in writing efficient and maintainable code. As a part of a minor project, we explore various aspects of Python functions, including their structure, parameters, return values, and best practices. The report also includes practical examples and code snippets to illustrate the implementation of well-defined functions."
   ]
  },
  {
   "cell_type": "markdown",
   "metadata": {},
   "source": [
    "### 1. Introduction:"
   ]
  },
  {
   "cell_type": "markdown",
   "metadata": {},
   "source": [
    "Python functions play a pivotal role in structuring code and enhancing its readability, reusability, and maintainability. Well-defined functions encapsulate specific functionality, making code modular and easier to understand. This minor project aims to explore the characteristics of well-defined Python functions and demonstrate their practical application through code examples.\n",
    "\n"
   ]
  },
  {
   "cell_type": "markdown",
   "metadata": {},
   "source": [
    "### syntax "
   ]
  },
  {
   "cell_type": "code",
   "execution_count": 11,
   "metadata": {},
   "outputs": [],
   "source": [
    "def function_name(parameter1, parameter2):\n",
    "    \"\"\"\n",
    "    Docstring: Description of the function.\n",
    "\n",
    "    Parameters:\n",
    "    - parameter1 (type): Description of parameter1.\n",
    "    - parameter2 (type): Description of parameter2.\n",
    "    ...\n",
    "    \n",
    "    Returns:\n",
    "    return_type: Description of the return value.\n",
    "    \"\"\"\n",
    "    # Function implementation\n",
    "    # ...\n",
    "    return function_name  # optional return statement\n"
   ]
  },
  {
   "cell_type": "markdown",
   "metadata": {},
   "source": [
    "Let's break down the components:\n",
    "\n",
    "- def: Keyword indicating the start of a function definition.\n",
    "- function_name: The name of the function, following Python's identifier naming rules.\n",
    "- (parameter1, parameter2, ...): Parameters or arguments that the function takes. Parameters are optional.\n",
    "- :: Colon, indicating the start of the function body.\n",
    "- \"\"\"Docstring\"\"\": Triple-quoted string providing a documentation string describing the purpose of the function, its parameters, and return values. This is optional but\n",
    "highly recommended for code documentation.\n",
    "- #Function implementation: Actual code for the function's logic.\n",
    "- return function_name: The return statement is optional. It specifies the value that the function returns. If omitted, the function returns None."
   ]
  },
  {
   "cell_type": "markdown",
   "metadata": {},
   "source": [
    "### 2. Characteristics of Well-Defined Functions:\n"
   ]
  },
  {
   "cell_type": "markdown",
   "metadata": {},
   "source": [
    "- Descriptive Function Names:"
   ]
  },
  {
   "cell_type": "markdown",
   "metadata": {},
   "source": [
    "Well-defined functions have clear, descriptive names that convey their purpose. This enhances code readability and makes it easier for developers to understand the function's role in the program."
   ]
  },
  {
   "cell_type": "code",
   "execution_count": 1,
   "metadata": {},
   "outputs": [],
   "source": [
    "def calculate_area(radius):\n",
    "    # Function implementation here\n",
    "    pass"
   ]
  },
  {
   "cell_type": "markdown",
   "metadata": {},
   "source": [
    "- Proper Use of Parameters:"
   ]
  },
  {
   "cell_type": "markdown",
   "metadata": {},
   "source": [
    "Functions should take parameters that are necessary for their operation. Avoid using global variables inside functions, as it can lead to code that is harder to understand and maintain."
   ]
  },
  {
   "cell_type": "code",
   "execution_count": 2,
   "metadata": {},
   "outputs": [],
   "source": [
    "def calculate_total_price(price, quantity):\n",
    "    # Function implementation here\n",
    "    pass"
   ]
  },
  {
   "cell_type": "markdown",
   "metadata": {},
   "source": [
    "- Return Values:\n"
   ]
  },
  {
   "cell_type": "markdown",
   "metadata": {},
   "source": [
    "A well-defined function returns a value that can be used elsewhere in the code. This enhances reusability and allows for a more modular code structure."
   ]
  },
  {
   "cell_type": "code",
   "execution_count": 3,
   "metadata": {},
   "outputs": [],
   "source": [
    "def square_number(number):\n",
    "    return number ** 2"
   ]
  },
  {
   "cell_type": "markdown",
   "metadata": {},
   "source": [
    "- Docstrings:"
   ]
  },
  {
   "cell_type": "markdown",
   "metadata": {},
   "source": [
    "Including docstrings in functions provides documentation that helps other developers understand the purpose of the function, its parameters, and expected return values."
   ]
  },
  {
   "cell_type": "code",
   "execution_count": 4,
   "metadata": {},
   "outputs": [],
   "source": [
    "def greet(name):\n",
    "    \"\"\"\n",
    "    Greet the user with a personalized message.\n",
    "\n",
    "    Parameters:\n",
    "    - name (str): The name of the user.\n",
    "\n",
    "    Returns:\n",
    "    str: A personalized greeting message.\n",
    "    \"\"\"\n",
    "    return f\"Hello, {name}!\"\n"
   ]
  },
  {
   "cell_type": "markdown",
   "metadata": {},
   "source": [
    "### 3. Practical Examples:\n"
   ]
  },
  {
   "cell_type": "markdown",
   "metadata": {},
   "source": [
    "Example 1: Calculating Area of a Circle:\n"
   ]
  },
  {
   "cell_type": "code",
   "execution_count": 5,
   "metadata": {},
   "outputs": [
    {
     "name": "stdout",
     "output_type": "stream",
     "text": [
      "The area of the circle with radius 5 is: 78.5\n"
     ]
    }
   ],
   "source": [
    "def calculate_area(radius):\n",
    "    \"\"\"Calculate the area of a circle.\"\"\"\n",
    "    return 3.14 * radius ** 2\n",
    "\n",
    "# Example usage\n",
    "radius = 5\n",
    "area = calculate_area(radius)\n",
    "print(f\"The area of the circle with radius {radius} is: {area}\")\n"
   ]
  },
  {
   "cell_type": "markdown",
   "metadata": {},
   "source": [
    "Example 2: Generating Fibonacci Sequence:\n"
   ]
  },
  {
   "cell_type": "code",
   "execution_count": 6,
   "metadata": {},
   "outputs": [
    {
     "name": "stdout",
     "output_type": "stream",
     "text": [
      "The first 8 terms of the Fibonacci sequence are: [0, 1, 1, 2, 3, 5, 8, 13]\n"
     ]
    }
   ],
   "source": [
    "def generate_fibonacci(n):\n",
    "    \"\"\"Generate the first n terms of the Fibonacci sequence.\"\"\"\n",
    "    fib_sequence = [0, 1]\n",
    "    while len(fib_sequence) < n:\n",
    "        fib_sequence.append(fib_sequence[-1] + fib_sequence[-2])\n",
    "    return fib_sequence\n",
    "\n",
    "# Example usage\n",
    "n = 8\n",
    "fibonacci_sequence = generate_fibonacci(n)\n",
    "print(f\"The first {n} terms of the Fibonacci sequence are: {fibonacci_sequence}\")\n"
   ]
  },
  {
   "cell_type": "markdown",
   "metadata": {},
   "source": [
    "### 4. Best Practices:"
   ]
  },
  {
   "cell_type": "markdown",
   "metadata": {},
   "source": [
    "- Avoiding Global Variables:"
   ]
  },
  {
   "cell_type": "markdown",
   "metadata": {},
   "source": [
    "Well-defined functions should rely on parameters rather than global variables to maintain a clear scope."
   ]
  },
  {
   "cell_type": "code",
   "execution_count": 7,
   "metadata": {},
   "outputs": [],
   "source": [
    "# Incorrect example with global variable\n",
    "total_price = 0\n",
    "\n",
    "def calculate_total_price(price, quantity):\n",
    "    global total_price\n",
    "    total_price = price * quantity\n",
    "    # Function implementation here\n",
    "    pass\n"
   ]
  },
  {
   "cell_type": "markdown",
   "metadata": {},
   "source": [
    "- Avoiding Side Effects:"
   ]
  },
  {
   "cell_type": "markdown",
   "metadata": {},
   "source": [
    "Functions should not have unintended side effects on other parts of the code. They should perform their designated task without altering external variables or states."
   ]
  },
  {
   "cell_type": "code",
   "execution_count": 8,
   "metadata": {},
   "outputs": [],
   "source": [
    "# Incorrect example with side effect\n",
    "def calculate_total_price(price, quantity):\n",
    "    global total_price\n",
    "    total_price = price * quantity\n",
    "    print(f\"Total price is: {total_price}\")\n",
    "    # Function implementation here\n",
    "    pass\n"
   ]
  },
  {
   "cell_type": "code",
   "execution_count": 9,
   "metadata": {},
   "outputs": [],
   "source": [
    "# Correct example without side effect\n",
    "def calculate_total_price(price, quantity):\n",
    "    total_price = price * quantity\n",
    "    return total_price\n"
   ]
  },
  {
   "cell_type": "markdown",
   "metadata": {},
   "source": [
    "- Reusability:"
   ]
  },
  {
   "cell_type": "markdown",
   "metadata": {},
   "source": [
    "Design functions with reusability in mind. A well-defined function can be easily used in different parts of the codebase."
   ]
  },
  {
   "cell_type": "code",
   "execution_count": 10,
   "metadata": {},
   "outputs": [
    {
     "name": "stdout",
     "output_type": "stream",
     "text": [
      "The area of the circle is: 78.5\n",
      "The area of the rectangle is: 24\n"
     ]
    }
   ],
   "source": [
    "# Non-reusable function\n",
    "def calculate_area_of_rectangle(length, width):\n",
    "    area = length * width\n",
    "    print(f\"The area of the rectangle is: {area}\")\n",
    "\n",
    "# Reusable function\n",
    "def calculate_area(shape, dimensions):\n",
    "    if shape == 'circle':\n",
    "        radius = dimensions[0]\n",
    "        return 3.14 * radius ** 2\n",
    "    elif shape == 'rectangle':\n",
    "        length, width = dimensions\n",
    "        return length * width\n",
    "\n",
    "# Example usage\n",
    "circle_radius = 5\n",
    "rectangle_dimensions = (4, 6)\n",
    "\n",
    "circle_area = calculate_area('circle', [circle_radius])\n",
    "rectangle_area = calculate_area('rectangle', rectangle_dimensions)\n",
    "\n",
    "print(f\"The area of the circle is: {circle_area}\")\n",
    "print(f\"The area of the rectangle is: {rectangle_area}\")\n"
   ]
  },
  {
   "cell_type": "markdown",
   "metadata": {},
   "source": [
    "### 5. Conclusion:\n"
   ]
  },
  {
   "cell_type": "markdown",
   "metadata": {},
   "source": [
    "Well-defined functions are a cornerstone of writing clean, modular, and maintainable Python code. This report has explored the characteristics of well-defined functions and provided practical examples to demonstrate their implementation. Adhering to best practices in function design contributes to code that is not only efficient but also more comprehensible to developers."
   ]
  },
  {
   "cell_type": "markdown",
   "metadata": {},
   "source": [
    "### References -"
   ]
  },
  {
   "cell_type": "markdown",
   "metadata": {},
   "source": [
    "- Python Documentation: https://docs.python.org/3/\n",
    "- Stack Overflow: https://stackoverflow.com/"
   ]
  }
 ],
 "metadata": {
  "kernelspec": {
   "display_name": "Python 3",
   "language": "python",
   "name": "python3"
  },
  "language_info": {
   "codemirror_mode": {
    "name": "ipython",
    "version": 3
   },
   "file_extension": ".py",
   "mimetype": "text/x-python",
   "name": "python",
   "nbconvert_exporter": "python",
   "pygments_lexer": "ipython3",
   "version": "3.12.1"
  }
 },
 "nbformat": 4,
 "nbformat_minor": 2
}
